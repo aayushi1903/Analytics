{
 "cells": [
  {
   "cell_type": "markdown",
   "metadata": {},
   "source": [
    "<h1>Capstone Project ALY 6140 Winter 2021</h1>\n",
    "<h2>Aayushi Gupta</h2>\n"
   ]
  },
  {
   "cell_type": "markdown",
   "metadata": {},
   "source": [
    "<h3>Introduction</h3>\n",
    "\n",
    "The dataset that I have chosen to analyze for my final week's capstone project is the Energy Consumption by various properties.This data set contains electricity, natural gas, and heating oil usage from 2017 of all non-residential buildings greater than 35,000 square feet, residential buildings that are 35,000 square feet or larger or have 35 or more units, any parcel with multiple buildings that sum to 100,000 square feet or 100 unit, and all municipal buildings that reported in 2018 in Boston. \n",
    "This Jupyter notebook consists of all the necessary commands used to perform the analysis. This notebook consists of the following-:\n",
    "<ol>\n",
    "    <li>Data Extraction</li>\n",
    "    <li>Data Cleanup</li>\n",
    "    <li>Data Visualization</li>\n",
    "    <li>Descriptive Analytics</li>\n",
    "    <li>Predictive Analytics</li>\n",
    "</ol>"
   ]
  },
  {
   "cell_type": "code",
   "execution_count": 1,
   "metadata": {},
   "outputs": [
    {
     "name": "stdout",
     "output_type": "stream",
     "text": [
      "Libraries Imported\n"
     ]
    }
   ],
   "source": [
    "#importing necessary libraries\n",
    "import pandas as pd\n",
    "import numpy as np\n",
    "import matplotlib.pyplot as plt\n",
    "from sklearn.linear_model import LinearRegression\n",
    "import seaborn as sns\n",
    "from sklearn.model_selection import train_test_split\n",
    "print(\"Libraries Imported\")\n"
   ]
  },
  {
   "cell_type": "markdown",
   "metadata": {},
   "source": [
    "<h3>1. Data Extraction</h3>\n",
    "\n",
    "Data extraction is the process of collecting or retrieving disparate types of data from a variety of sources, many of which may be poorly organized or completely unstructured. Data extraction makes it possible to consolidate, process, and refine data so that it can be stored in a centralized location in order to be transformed. These locations may be on-site, cloud-based, or a hybrid of the two.\n",
    "\n",
    "Data extraction is the first step in both ETL (extract, transform, load) and ELT (extract, load, transform) processes. ETL/ELT are themselves part of a complete data integration strategy."
   ]
  },
  {
   "cell_type": "code",
   "execution_count": 2,
   "metadata": {},
   "outputs": [
    {
     "data": {
      "text/html": [
       "<div>\n",
       "<style scoped>\n",
       "    .dataframe tbody tr th:only-of-type {\n",
       "        vertical-align: middle;\n",
       "    }\n",
       "\n",
       "    .dataframe tbody tr th {\n",
       "        vertical-align: top;\n",
       "    }\n",
       "\n",
       "    .dataframe thead th {\n",
       "        text-align: right;\n",
       "    }\n",
       "</style>\n",
       "<table border=\"1\" class=\"dataframe\">\n",
       "  <thead>\n",
       "    <tr style=\"text-align: right;\">\n",
       "      <th></th>\n",
       "      <th>Property Name</th>\n",
       "      <th>Reported</th>\n",
       "      <th>Property Type</th>\n",
       "      <th>Address</th>\n",
       "      <th>ZIP</th>\n",
       "      <th>Gross Area (sq ft)</th>\n",
       "      <th>Site EUI (kBTU/sf)</th>\n",
       "      <th>Energy Star Score</th>\n",
       "      <th>Energy Star Certified</th>\n",
       "      <th>Property Uses</th>\n",
       "      <th>...</th>\n",
       "      <th>Total Site Energy (kBTU)</th>\n",
       "      <th>% Electricity</th>\n",
       "      <th>% Gas</th>\n",
       "      <th>% Steam</th>\n",
       "      <th>Water Intensity (gal/sf)</th>\n",
       "      <th>Onsite Renewable (kWh)</th>\n",
       "      <th>User Submitted Info</th>\n",
       "      <th>User Submitted Link</th>\n",
       "      <th>Tax Parcel</th>\n",
       "      <th>Years Reported</th>\n",
       "    </tr>\n",
       "  </thead>\n",
       "  <tbody>\n",
       "    <tr>\n",
       "      <th>0</th>\n",
       "      <td>251 Causeway - Ste# 700490</td>\n",
       "      <td>Compliant</td>\n",
       "      <td>Office</td>\n",
       "      <td>251 Causeway Street</td>\n",
       "      <td>02114</td>\n",
       "      <td>150097</td>\n",
       "      <td>62</td>\n",
       "      <td>75.0</td>\n",
       "      <td>2017, 2016, 2015, 2014, 2013</td>\n",
       "      <td>Medical Office, Office</td>\n",
       "      <td>...</td>\n",
       "      <td>9310256.1</td>\n",
       "      <td>0.948339574</td>\n",
       "      <td>0.048892318</td>\n",
       "      <td>NaN</td>\n",
       "      <td>9.72</td>\n",
       "      <td>NaN</td>\n",
       "      <td>NaN</td>\n",
       "      <td>NaN</td>\n",
       "      <td>301510000</td>\n",
       "      <td>2014, 2015, 2016, 2017, 2018,</td>\n",
       "    </tr>\n",
       "    <tr>\n",
       "      <th>1</th>\n",
       "      <td>South Cove Plaza East - 285 TREMONT: 26145951005</td>\n",
       "      <td>Compliant</td>\n",
       "      <td>Multifamily Housing</td>\n",
       "      <td>285 TREMONT</td>\n",
       "      <td>02116</td>\n",
       "      <td>85986</td>\n",
       "      <td>24</td>\n",
       "      <td>96.0</td>\n",
       "      <td>NaN</td>\n",
       "      <td>Multifamily Housing</td>\n",
       "      <td>...</td>\n",
       "      <td>2060341.7</td>\n",
       "      <td>1.000041325</td>\n",
       "      <td>NaN</td>\n",
       "      <td>NaN</td>\n",
       "      <td>53.76</td>\n",
       "      <td>NaN</td>\n",
       "      <td>NaN</td>\n",
       "      <td>NaN</td>\n",
       "      <td>500066000</td>\n",
       "      <td>2015, 2016, 2018,</td>\n",
       "    </tr>\n",
       "    <tr>\n",
       "      <th>2</th>\n",
       "      <td>Woodbourne Apartments</td>\n",
       "      <td>Compliant</td>\n",
       "      <td>Multifamily Housing</td>\n",
       "      <td>6 Southbourne Rd</td>\n",
       "      <td>02130</td>\n",
       "      <td>49064</td>\n",
       "      <td>82.3</td>\n",
       "      <td>53.0</td>\n",
       "      <td>NaN</td>\n",
       "      <td>Multifamily Housing</td>\n",
       "      <td>...</td>\n",
       "      <td>4036588.1</td>\n",
       "      <td>0.248623256</td>\n",
       "      <td>0.751387043</td>\n",
       "      <td>NaN</td>\n",
       "      <td>63.19</td>\n",
       "      <td>NaN</td>\n",
       "      <td>NaN</td>\n",
       "      <td>NaN</td>\n",
       "      <td>1904952000</td>\n",
       "      <td>2015, 2016, 2017, 2018,</td>\n",
       "    </tr>\n",
       "    <tr>\n",
       "      <th>3</th>\n",
       "      <td>Navy Yard 34-39: Building 34</td>\n",
       "      <td>Compliant</td>\n",
       "      <td>Office</td>\n",
       "      <td>1 1st Avenue</td>\n",
       "      <td>02129</td>\n",
       "      <td>49247</td>\n",
       "      <td>274.8</td>\n",
       "      <td>1.0</td>\n",
       "      <td>NaN</td>\n",
       "      <td>Bank Branch, Office, Retail Store</td>\n",
       "      <td>...</td>\n",
       "      <td>13531047.8</td>\n",
       "      <td>0.911122218</td>\n",
       "      <td>0.088915479</td>\n",
       "      <td>NaN</td>\n",
       "      <td>13.47</td>\n",
       "      <td>NaN</td>\n",
       "      <td>NaN</td>\n",
       "      <td>NaN</td>\n",
       "      <td>203512000</td>\n",
       "      <td>2017, 2018,</td>\n",
       "    </tr>\n",
       "    <tr>\n",
       "      <th>4</th>\n",
       "      <td>One Appleton</td>\n",
       "      <td>Compliant</td>\n",
       "      <td>Office</td>\n",
       "      <td>1 Appleton Street</td>\n",
       "      <td>02116</td>\n",
       "      <td>40000</td>\n",
       "      <td>44.7</td>\n",
       "      <td>99.0</td>\n",
       "      <td>NaN</td>\n",
       "      <td>Office, Restaurant</td>\n",
       "      <td>...</td>\n",
       "      <td>1789160.6</td>\n",
       "      <td>0.228974011</td>\n",
       "      <td>0.771035565</td>\n",
       "      <td>NaN</td>\n",
       "      <td>17.9</td>\n",
       "      <td>NaN</td>\n",
       "      <td>NaN</td>\n",
       "      <td>NaN</td>\n",
       "      <td>500693000</td>\n",
       "      <td>2016, 2017, 2018,</td>\n",
       "    </tr>\n",
       "  </tbody>\n",
       "</table>\n",
       "<p>5 rows × 23 columns</p>\n",
       "</div>"
      ],
      "text/plain": [
       "                                      Property Name   Reported  \\\n",
       "0                        251 Causeway - Ste# 700490  Compliant   \n",
       "1  South Cove Plaza East - 285 TREMONT: 26145951005  Compliant   \n",
       "2                             Woodbourne Apartments  Compliant   \n",
       "3                      Navy Yard 34-39: Building 34  Compliant   \n",
       "4                                      One Appleton  Compliant   \n",
       "\n",
       "         Property Type               Address    ZIP  Gross Area (sq ft)   \\\n",
       "0               Office   251 Causeway Street  02114               150097   \n",
       "1  Multifamily Housing           285 TREMONT  02116                85986   \n",
       "2  Multifamily Housing      6 Southbourne Rd  02130                49064   \n",
       "3               Office          1 1st Avenue  02129                49247   \n",
       "4               Office     1 Appleton Street  02116                40000   \n",
       "\n",
       "  Site EUI (kBTU/sf)  Energy Star Score         Energy Star Certified  \\\n",
       "0                 62               75.0  2017, 2016, 2015, 2014, 2013   \n",
       "1                 24               96.0                           NaN   \n",
       "2               82.3               53.0                           NaN   \n",
       "3              274.8                1.0                           NaN   \n",
       "4               44.7               99.0                           NaN   \n",
       "\n",
       "                       Property Uses  ...   Total Site Energy (kBTU)   \\\n",
       "0             Medical Office, Office  ...                   9310256.1   \n",
       "1                Multifamily Housing  ...                   2060341.7   \n",
       "2                Multifamily Housing  ...                   4036588.1   \n",
       "3  Bank Branch, Office, Retail Store  ...                  13531047.8   \n",
       "4                 Office, Restaurant  ...                   1789160.6   \n",
       "\n",
       "  % Electricity        % Gas % Steam Water Intensity (gal/sf)  \\\n",
       "0   0.948339574  0.048892318     NaN                     9.72   \n",
       "1   1.000041325          NaN     NaN                    53.76   \n",
       "2   0.248623256  0.751387043     NaN                    63.19   \n",
       "3   0.911122218  0.088915479     NaN                    13.47   \n",
       "4   0.228974011  0.771035565     NaN                     17.9   \n",
       "\n",
       "   Onsite Renewable (kWh)   User Submitted Info User Submitted Link  \\\n",
       "0                      NaN                  NaN                 NaN   \n",
       "1                      NaN                  NaN                 NaN   \n",
       "2                      NaN                  NaN                 NaN   \n",
       "3                      NaN                  NaN                 NaN   \n",
       "4                      NaN                  NaN                 NaN   \n",
       "\n",
       "   Tax Parcel                  Years Reported  \n",
       "0   301510000  2014, 2015, 2016, 2017, 2018,   \n",
       "1   500066000              2015, 2016, 2018,   \n",
       "2  1904952000        2015, 2016, 2017, 2018,   \n",
       "3   203512000                    2017, 2018,   \n",
       "4   500693000              2016, 2017, 2018,   \n",
       "\n",
       "[5 rows x 23 columns]"
      ]
     },
     "execution_count": 2,
     "metadata": {},
     "output_type": "execute_result"
    }
   ],
   "source": [
    "\n",
    "df=pd.read_csv(\"https://data.boston.gov/dataset/b09a8b71-274b-4365-9ce6-49b8b44602ef/resource/da68dc1a-46ad-4fd9-8627-8ca7e5fd39dd/download/berdo-data-for-disclosure-calendar-year-2017.csv\",encoding='cp1252')\n",
    "#To download the dataset-:\n",
    "# Visit https://data.boston.gov/dataset/building-energy-reporting-and-disclosure-ordinance/resource/da68dc1a-46ad-4fd9-8627-8ca7e5fd39dd\n",
    "#Click on download dataset\n",
    "#use the code below for dowloaded dataset-:\n",
    "#path=\"\" enter the path of the csv file\n",
    "#df=pd.read_csv(path)\n",
    "df.head()"
   ]
  },
  {
   "cell_type": "code",
   "execution_count": 3,
   "metadata": {},
   "outputs": [
    {
     "data": {
      "text/plain": [
       "array(['Compliant', 'Municipal ', 'Voluntary'], dtype=object)"
      ]
     },
     "execution_count": 3,
     "metadata": {},
     "output_type": "execute_result"
    }
   ],
   "source": [
    "df.Reported.unique() #displaying unique values of the Reported column of the dataframe."
   ]
  },
  {
   "cell_type": "markdown",
   "metadata": {},
   "source": [
    "<h2>Describing the dataset</h2> \n",
    "\n",
    "This data set contains electricity, natural gas, and heating oil usage from 2017 of all non-residential buildings greater than 35,000 square feet, residential buildings that are 35,000 square feet or larger or have 35 or more units, any parcel with multiple buildings that sum to 100,000 square feet or 100 unit, and all municipal buildings that reported in 2018.This dataset gives a very detailed description of the energy consumption in the form of electricity, gas and steam. \n",
    "It lists all the properties with their ZIP codes and addresses and reports them as either Compliant,Municipal or Voluntary. It also lists the type of property.<br>\n",
    "\n",
    "\n",
    "\n",
    "For each property, energy star score is given.Using the energy star score we can understand how a building energy's consumption measures up against similar buildings nationwide. A score of 50 represents median energy performance, while a score of 75 or better indicates that the building is a top performer. To be eligible for an energy star certification, the building needs to earn an energy star score of 75 or higher. The EUI of a site is the energy use intensity of the building.\n",
    "The GHG emissions (MTCO2e) tells the green house gas emissions in metric tons of carbon dioxide equivalent. \n",
    "The data informs about the total area of the building and the energy used by it and also gives a breakdown of these energies in electricty gas and steam.<br>\n",
    "\n",
    "\n",
    "\n",
    "<h2>Questions to be answered</h2>\n",
    "\n",
    "Using this data, a lot of comparisons can be made between different columns of the dataframe. One of the questions that can be answered using this data are-\n",
    "<ul>\n",
    "<li>How does the area of a building affect its energy consumption</li>\n",
    "<li>Which buildings consume the maximum energy? </li>\n",
    "<li>Will an increase in area increase the energy consumption of the building?</li>\n",
    "<li>What is the average energy use intensity of the buildings in Boston ?</li>\n",
    "    <li>What is the maxim,um energy use intensity of the buildings in Boson?</li>\n",
    "<li>Which type of properties have the highest energy star score ?</li>\n",
    "    <li>What is the average energy star score of the buildings in Boston</li>\n",
    "</ul>"
   ]
  },
  {
   "cell_type": "markdown",
   "metadata": {},
   "source": [
    "<h2>2. Data cleanup</h2>\n",
    "\n",
    "Data cleaning is the process of fixing or removing incorrect, corrupted, incorrectly formatted, duplicate, or incomplete data within a dataset.\n",
    "\n",
    "When combining multiple data sources, there are many opportunities for data to be duplicated or mislabeled. If data is incorrect, outcomes and algorithms are unreliable, even though they may look correct.\n",
    "\n",
    "Step 1: Remove duplicate or irrelevant observations\n",
    "\n",
    "Step 2: Fix structural errors\n",
    "\n",
    "Step 3: Filter unwanted outliers\n",
    "\n",
    "Step 4: Handle missing data\n",
    "\n",
    "5 characteristics of quality data\n",
    "<ol>\n",
    "<li>Validity: The degree to which your data conforms to defined business rules or constraints. </li>\n",
    "    <li>Accuracy: Ensure your data is close to the true values. </li>\n",
    "    <li> Completeness. The degree to which all required data is known. </li>\n",
    "<li> Consistency. Ensure your data is consistent within the same dataset and/or across multiple data sets. </li>\n",
    "    <li> Uniformity. The degree to which the data is specified using the same unit of measure. </li>\n",
    "    </ol>"
   ]
  },
  {
   "cell_type": "code",
   "execution_count": 4,
   "metadata": {},
   "outputs": [],
   "source": [
    "def main():\n",
    "    print(df.shape) #displays the number of rows and columns\n",
    "    df.drop_duplicates(subset =\"Property Name\", keep = \"first\", inplace = True) \n",
    "    print(df.shape)\n",
    "    for col in df.columns:\n",
    "        print(col) \n",
    "    df.drop(['Energy Star Certified',' Onsite Renewable (kWh) ','User Submitted Info','User Submitted Link','Tax Parcel','% Steam'], axis = 1,inplace=True)\n",
    "    "
   ]
  },
  {
   "cell_type": "code",
   "execution_count": 5,
   "metadata": {},
   "outputs": [],
   "source": [
    "def graph(a,b):\n",
    "    df_1 = df.groupby(['Property Type'])[a].mean()\n",
    "    df_1.plot.bar()\n",
    "    plt.title(b)\n",
    "    plt.xlabel('Property Type')\n",
    "    plt.ylabel(a)\n",
    "    plt.show()"
   ]
  },
  {
   "cell_type": "code",
   "execution_count": null,
   "metadata": {},
   "outputs": [],
   "source": [
    "def DistributionPlot(RedFunction, BlueFunction, RedName, BlueName, Title):\n",
    "    width = 12\n",
    "    height = 10\n",
    "    plt.figure(figsize=(width, height))\n",
    "\n",
    "    ax1 = sns.distplot(RedFunction, hist=False, color=\"r\", label=RedName)\n",
    "    ax2 = sns.distplot(BlueFunction, hist=False, color=\"b\", label=BlueName, ax=ax1)\n",
    "\n",
    "    plt.title(Title)\n",
    "    plt.xlabel('Gross Area')\n",
    "    plt.ylabel('Total site energy')\n",
    "\n",
    "    plt.show()\n",
    "    plt.close()"
   ]
  },
  {
   "cell_type": "code",
   "execution_count": 6,
   "metadata": {},
   "outputs": [
    {
     "name": "stdout",
     "output_type": "stream",
     "text": [
      "(1914, 23)\n",
      "(1893, 23)\n",
      "Property Name\n",
      "Reported\n",
      "Property Type\n",
      "Address\n",
      "ZIP\n",
      " Gross Area (sq ft) \n",
      "Site EUI (kBTU/sf)\n",
      "Energy Star Score\n",
      "Energy Star Certified\n",
      "Property Uses\n",
      "Year Built\n",
      " GHG Emissions (MTCO2e) \n",
      "GHG Intensity (kgCO2/sf)\n",
      " Total Site Energy (kBTU) \n",
      "% Electricity\n",
      "% Gas\n",
      "% Steam\n",
      "Water Intensity (gal/sf)\n",
      " Onsite Renewable (kWh) \n",
      "User Submitted Info\n",
      "User Submitted Link\n",
      "Tax Parcel\n",
      "Years Reported\n"
     ]
    }
   ],
   "source": [
    "if __name__==\"__main__\": \n",
    "    main() "
   ]
  },
  {
   "cell_type": "code",
   "execution_count": 7,
   "metadata": {},
   "outputs": [
    {
     "data": {
      "text/html": [
       "<div>\n",
       "<style scoped>\n",
       "    .dataframe tbody tr th:only-of-type {\n",
       "        vertical-align: middle;\n",
       "    }\n",
       "\n",
       "    .dataframe tbody tr th {\n",
       "        vertical-align: top;\n",
       "    }\n",
       "\n",
       "    .dataframe thead th {\n",
       "        text-align: right;\n",
       "    }\n",
       "</style>\n",
       "<table border=\"1\" class=\"dataframe\">\n",
       "  <thead>\n",
       "    <tr style=\"text-align: right;\">\n",
       "      <th></th>\n",
       "      <th>Property Name</th>\n",
       "      <th>Reported</th>\n",
       "      <th>Property Type</th>\n",
       "      <th>Address</th>\n",
       "      <th>ZIP</th>\n",
       "      <th>Gross Area (sq ft)</th>\n",
       "      <th>Site EUI (kBTU/sf)</th>\n",
       "      <th>Energy Star Score</th>\n",
       "      <th>Property Uses</th>\n",
       "      <th>Year Built</th>\n",
       "      <th>GHG Emissions (MTCO2e)</th>\n",
       "      <th>GHG Intensity (kgCO2/sf)</th>\n",
       "      <th>Total Site Energy (kBTU)</th>\n",
       "      <th>% Electricity</th>\n",
       "      <th>% Gas</th>\n",
       "      <th>Water Intensity (gal/sf)</th>\n",
       "      <th>Years Reported</th>\n",
       "    </tr>\n",
       "  </thead>\n",
       "  <tbody>\n",
       "    <tr>\n",
       "      <th>0</th>\n",
       "      <td>False</td>\n",
       "      <td>False</td>\n",
       "      <td>False</td>\n",
       "      <td>False</td>\n",
       "      <td>False</td>\n",
       "      <td>False</td>\n",
       "      <td>False</td>\n",
       "      <td>False</td>\n",
       "      <td>False</td>\n",
       "      <td>False</td>\n",
       "      <td>False</td>\n",
       "      <td>False</td>\n",
       "      <td>False</td>\n",
       "      <td>False</td>\n",
       "      <td>False</td>\n",
       "      <td>False</td>\n",
       "      <td>False</td>\n",
       "    </tr>\n",
       "    <tr>\n",
       "      <th>1</th>\n",
       "      <td>False</td>\n",
       "      <td>False</td>\n",
       "      <td>False</td>\n",
       "      <td>False</td>\n",
       "      <td>False</td>\n",
       "      <td>False</td>\n",
       "      <td>False</td>\n",
       "      <td>False</td>\n",
       "      <td>False</td>\n",
       "      <td>False</td>\n",
       "      <td>False</td>\n",
       "      <td>False</td>\n",
       "      <td>False</td>\n",
       "      <td>False</td>\n",
       "      <td>True</td>\n",
       "      <td>False</td>\n",
       "      <td>False</td>\n",
       "    </tr>\n",
       "    <tr>\n",
       "      <th>2</th>\n",
       "      <td>False</td>\n",
       "      <td>False</td>\n",
       "      <td>False</td>\n",
       "      <td>False</td>\n",
       "      <td>False</td>\n",
       "      <td>False</td>\n",
       "      <td>False</td>\n",
       "      <td>False</td>\n",
       "      <td>False</td>\n",
       "      <td>False</td>\n",
       "      <td>False</td>\n",
       "      <td>False</td>\n",
       "      <td>False</td>\n",
       "      <td>False</td>\n",
       "      <td>False</td>\n",
       "      <td>False</td>\n",
       "      <td>False</td>\n",
       "    </tr>\n",
       "    <tr>\n",
       "      <th>3</th>\n",
       "      <td>False</td>\n",
       "      <td>False</td>\n",
       "      <td>False</td>\n",
       "      <td>False</td>\n",
       "      <td>False</td>\n",
       "      <td>False</td>\n",
       "      <td>False</td>\n",
       "      <td>False</td>\n",
       "      <td>False</td>\n",
       "      <td>False</td>\n",
       "      <td>False</td>\n",
       "      <td>False</td>\n",
       "      <td>False</td>\n",
       "      <td>False</td>\n",
       "      <td>False</td>\n",
       "      <td>False</td>\n",
       "      <td>False</td>\n",
       "    </tr>\n",
       "    <tr>\n",
       "      <th>4</th>\n",
       "      <td>False</td>\n",
       "      <td>False</td>\n",
       "      <td>False</td>\n",
       "      <td>False</td>\n",
       "      <td>False</td>\n",
       "      <td>False</td>\n",
       "      <td>False</td>\n",
       "      <td>False</td>\n",
       "      <td>False</td>\n",
       "      <td>False</td>\n",
       "      <td>False</td>\n",
       "      <td>False</td>\n",
       "      <td>False</td>\n",
       "      <td>False</td>\n",
       "      <td>False</td>\n",
       "      <td>False</td>\n",
       "      <td>False</td>\n",
       "    </tr>\n",
       "  </tbody>\n",
       "</table>\n",
       "</div>"
      ],
      "text/plain": [
       "   Property Name  Reported  Property Type  Address    ZIP  \\\n",
       "0          False     False          False    False  False   \n",
       "1          False     False          False    False  False   \n",
       "2          False     False          False    False  False   \n",
       "3          False     False          False    False  False   \n",
       "4          False     False          False    False  False   \n",
       "\n",
       "    Gross Area (sq ft)   Site EUI (kBTU/sf)  Energy Star Score  Property Uses  \\\n",
       "0                 False               False              False          False   \n",
       "1                 False               False              False          False   \n",
       "2                 False               False              False          False   \n",
       "3                 False               False              False          False   \n",
       "4                 False               False              False          False   \n",
       "\n",
       "   Year Built   GHG Emissions (MTCO2e)   GHG Intensity (kgCO2/sf)  \\\n",
       "0       False                     False                     False   \n",
       "1       False                     False                     False   \n",
       "2       False                     False                     False   \n",
       "3       False                     False                     False   \n",
       "4       False                     False                     False   \n",
       "\n",
       "    Total Site Energy (kBTU)   % Electricity  % Gas  Water Intensity (gal/sf)  \\\n",
       "0                       False          False  False                     False   \n",
       "1                       False          False   True                     False   \n",
       "2                       False          False  False                     False   \n",
       "3                       False          False  False                     False   \n",
       "4                       False          False  False                     False   \n",
       "\n",
       "   Years Reported  \n",
       "0           False  \n",
       "1           False  \n",
       "2           False  \n",
       "3           False  \n",
       "4           False  "
      ]
     },
     "execution_count": 7,
     "metadata": {},
     "output_type": "execute_result"
    }
   ],
   "source": [
    "#to find out blank entries\n",
    "missing_data = df.isnull()\n",
    "missing_data.head(5)"
   ]
  },
  {
   "cell_type": "code",
   "execution_count": 8,
   "metadata": {},
   "outputs": [
    {
     "name": "stdout",
     "output_type": "stream",
     "text": [
      "Property Name\n",
      "False    1892\n",
      "True        1\n",
      "Name: Property Name, dtype: int64\n",
      "\n",
      "Reported\n",
      "False    1893\n",
      "Name: Reported, dtype: int64\n",
      "\n",
      "Property Type\n",
      "False    1892\n",
      "True        1\n",
      "Name: Property Type, dtype: int64\n",
      "\n",
      "Address\n",
      "False    1893\n",
      "Name: Address, dtype: int64\n",
      "\n",
      "ZIP\n",
      "False    1892\n",
      "True        1\n",
      "Name: ZIP, dtype: int64\n",
      "\n",
      " Gross Area (sq ft) \n",
      "False    1892\n",
      "True        1\n",
      "Name:  Gross Area (sq ft) , dtype: int64\n",
      "\n",
      "Site EUI (kBTU/sf)\n",
      "False    1892\n",
      "True        1\n",
      "Name: Site EUI (kBTU/sf), dtype: int64\n",
      "\n",
      "Energy Star Score\n",
      "False    1161\n",
      "True      732\n",
      "Name: Energy Star Score, dtype: int64\n",
      "\n",
      "Property Uses\n",
      "False    1892\n",
      "True        1\n",
      "Name: Property Uses, dtype: int64\n",
      "\n",
      "Year Built\n",
      "False    1892\n",
      "True        1\n",
      "Name: Year Built, dtype: int64\n",
      "\n",
      " GHG Emissions (MTCO2e) \n",
      "False    1892\n",
      "True        1\n",
      "Name:  GHG Emissions (MTCO2e) , dtype: int64\n",
      "\n",
      "GHG Intensity (kgCO2/sf)\n",
      "False    1892\n",
      "True        1\n",
      "Name: GHG Intensity (kgCO2/sf), dtype: int64\n",
      "\n",
      " Total Site Energy (kBTU) \n",
      "False    1892\n",
      "True        1\n",
      "Name:  Total Site Energy (kBTU) , dtype: int64\n",
      "\n",
      "% Electricity\n",
      "False    1747\n",
      "True      146\n",
      "Name: % Electricity, dtype: int64\n",
      "\n",
      "% Gas\n",
      "False    1422\n",
      "True      471\n",
      "Name: % Gas, dtype: int64\n",
      "\n",
      "Water Intensity (gal/sf)\n",
      "False    1892\n",
      "True        1\n",
      "Name: Water Intensity (gal/sf), dtype: int64\n",
      "\n",
      "Years Reported\n",
      "False    1892\n",
      "True        1\n",
      "Name: Years Reported, dtype: int64\n",
      "\n"
     ]
    }
   ],
   "source": [
    "for column in missing_data.columns.values.tolist():\n",
    "    print(column)\n",
    "    print (missing_data[column].value_counts())\n",
    "    print(\"\") "
   ]
  },
  {
   "cell_type": "code",
   "execution_count": 9,
   "metadata": {},
   "outputs": [],
   "source": [
    "df.replace(\"Not Available\", np.nan, inplace = True)\n",
    "df.replace('?',np.nan,inplace=True)\n",
    "df.dropna(subset=[\" Gross Area (sq ft) \"], axis=0, inplace=True)\n",
    "df.dropna(subset=[\" Total Site Energy (kBTU) \"], axis=0, inplace=True)\n",
    "df.dropna(subset=[\"% Gas\"], axis=0, inplace=True)\n",
    "df.dropna(subset=[\"Energy Star Score\"], axis=0, inplace=True)"
   ]
  },
  {
   "cell_type": "code",
   "execution_count": 10,
   "metadata": {},
   "outputs": [],
   "source": [
    "df.dropna(subset=[\" GHG Emissions (MTCO2e) \"], axis=0, inplace=True)\n",
    "df.dropna(subset=[\"Site EUI (kBTU/sf)\"], axis=0, inplace=True)\n",
    "df.reset_index(drop=True, inplace=True)"
   ]
  },
  {
   "cell_type": "code",
   "execution_count": 11,
   "metadata": {},
   "outputs": [],
   "source": [
    "#changing column names for ease of accessibility\n",
    "df.rename(columns = {' Gross Area (sq ft) ':'Gross Area(sq ft)', ' GHG Emissions (MTCO2e) ':'GHG Emissions(MTCO2e)', \n",
    "                              ' Total Site Energy (kBTU) ':'Total Site Energy (kBTU)'}, inplace = True)"
   ]
  },
  {
   "cell_type": "code",
   "execution_count": 12,
   "metadata": {},
   "outputs": [
    {
     "name": "stdout",
     "output_type": "stream",
     "text": [
      "Average of water intensity 21205.192644230756\n"
     ]
    }
   ],
   "source": [
    "#filling in missing data of water intensity\n",
    "avg_water_intensity = df[\"Water Intensity (gal/sf)\"].astype(\"float\").mean(axis=0)\n",
    "print(\"Average of water intensity\", avg_water_intensity)\n",
    "df[\"Water Intensity (gal/sf)\"].replace(np.nan, avg_water_intensity, inplace=True)"
   ]
  },
  {
   "cell_type": "code",
   "execution_count": 13,
   "metadata": {
    "scrolled": true
   },
   "outputs": [
    {
     "name": "stdout",
     "output_type": "stream",
     "text": [
      "<class 'pandas.core.frame.DataFrame'>\n",
      "RangeIndex: 975 entries, 0 to 974\n",
      "Data columns (total 17 columns):\n",
      " #   Column                    Non-Null Count  Dtype  \n",
      "---  ------                    --------------  -----  \n",
      " 0   Property Name             975 non-null    object \n",
      " 1   Reported                  975 non-null    object \n",
      " 2   Property Type             975 non-null    object \n",
      " 3   Address                   975 non-null    object \n",
      " 4   ZIP                       975 non-null    object \n",
      " 5   Gross Area(sq ft)         975 non-null    object \n",
      " 6   Site EUI (kBTU/sf)        975 non-null    object \n",
      " 7   Energy Star Score         975 non-null    float64\n",
      " 8   Property Uses             975 non-null    object \n",
      " 9   Year Built                975 non-null    float64\n",
      " 10  GHG Emissions(MTCO2e)     975 non-null    object \n",
      " 11  GHG Intensity (kgCO2/sf)  975 non-null    object \n",
      " 12  Total Site Energy (kBTU)  975 non-null    object \n",
      " 13  % Electricity             970 non-null    object \n",
      " 14  % Gas                     975 non-null    object \n",
      " 15  Water Intensity (gal/sf)  975 non-null    object \n",
      " 16  Years Reported            975 non-null    object \n",
      "dtypes: float64(2), object(15)\n",
      "memory usage: 129.6+ KB\n"
     ]
    }
   ],
   "source": [
    "#checking the datatype of the column entries\n",
    "df.info()"
   ]
  },
  {
   "cell_type": "code",
   "execution_count": 14,
   "metadata": {},
   "outputs": [],
   "source": [
    "#converting string type into float for easy analysis and computation\n",
    "df[\"Gross Area(sq ft)\"] = pd.to_numeric(df[\"Gross Area(sq ft)\"])\n",
    "df[\"Total Site Energy (kBTU)\"] = pd.to_numeric(df[\"Total Site Energy (kBTU)\"])\n",
    "df[\"Site EUI (kBTU/sf)\"] = pd.to_numeric(df[\"Site EUI (kBTU/sf)\"])\n",
    "df[\"GHG Intensity (kgCO2/sf)\"] = pd.to_numeric(df[\"GHG Intensity (kgCO2/sf)\"])"
   ]
  },
  {
   "cell_type": "code",
   "execution_count": 15,
   "metadata": {},
   "outputs": [
    {
     "data": {
      "text/html": [
       "<div>\n",
       "<style scoped>\n",
       "    .dataframe tbody tr th:only-of-type {\n",
       "        vertical-align: middle;\n",
       "    }\n",
       "\n",
       "    .dataframe tbody tr th {\n",
       "        vertical-align: top;\n",
       "    }\n",
       "\n",
       "    .dataframe thead th {\n",
       "        text-align: right;\n",
       "    }\n",
       "</style>\n",
       "<table border=\"1\" class=\"dataframe\">\n",
       "  <thead>\n",
       "    <tr style=\"text-align: right;\">\n",
       "      <th></th>\n",
       "      <th>Property Name</th>\n",
       "      <th>Reported</th>\n",
       "      <th>Property Type</th>\n",
       "      <th>Address</th>\n",
       "      <th>ZIP</th>\n",
       "      <th>Gross Area(sq ft)</th>\n",
       "      <th>Site EUI (kBTU/sf)</th>\n",
       "      <th>Energy Star Score</th>\n",
       "      <th>Property Uses</th>\n",
       "      <th>Year Built</th>\n",
       "      <th>GHG Emissions(MTCO2e)</th>\n",
       "      <th>GHG Intensity (kgCO2/sf)</th>\n",
       "      <th>Total Site Energy (kBTU)</th>\n",
       "      <th>% Electricity</th>\n",
       "      <th>% Gas</th>\n",
       "      <th>Water Intensity (gal/sf)</th>\n",
       "      <th>Years Reported</th>\n",
       "    </tr>\n",
       "  </thead>\n",
       "  <tbody>\n",
       "    <tr>\n",
       "      <th>0</th>\n",
       "      <td>251 Causeway - Ste# 700490</td>\n",
       "      <td>Compliant</td>\n",
       "      <td>Office</td>\n",
       "      <td>251 Causeway Street</td>\n",
       "      <td>02114</td>\n",
       "      <td>150097.0</td>\n",
       "      <td>62.0</td>\n",
       "      <td>75.0</td>\n",
       "      <td>Medical Office, Office</td>\n",
       "      <td>1909.0</td>\n",
       "      <td>703</td>\n",
       "      <td>4.7</td>\n",
       "      <td>9310256.1</td>\n",
       "      <td>0.948339574</td>\n",
       "      <td>0.048892318</td>\n",
       "      <td>9.72</td>\n",
       "      <td>2014, 2015, 2016, 2017, 2018,</td>\n",
       "    </tr>\n",
       "    <tr>\n",
       "      <th>1</th>\n",
       "      <td>Woodbourne Apartments</td>\n",
       "      <td>Compliant</td>\n",
       "      <td>Multifamily Housing</td>\n",
       "      <td>6 Southbourne Rd</td>\n",
       "      <td>02130</td>\n",
       "      <td>49064.0</td>\n",
       "      <td>82.3</td>\n",
       "      <td>53.0</td>\n",
       "      <td>Multifamily Housing</td>\n",
       "      <td>1980.0</td>\n",
       "      <td>238</td>\n",
       "      <td>4.9</td>\n",
       "      <td>4036588.1</td>\n",
       "      <td>0.248623256</td>\n",
       "      <td>0.751387043</td>\n",
       "      <td>63.19</td>\n",
       "      <td>2015, 2016, 2017, 2018,</td>\n",
       "    </tr>\n",
       "    <tr>\n",
       "      <th>2</th>\n",
       "      <td>Navy Yard 34-39: Building 34</td>\n",
       "      <td>Compliant</td>\n",
       "      <td>Office</td>\n",
       "      <td>1 1st Avenue</td>\n",
       "      <td>02129</td>\n",
       "      <td>49247.0</td>\n",
       "      <td>274.8</td>\n",
       "      <td>1.0</td>\n",
       "      <td>Bank Branch, Office, Retail Store</td>\n",
       "      <td>1989.0</td>\n",
       "      <td>1009.1</td>\n",
       "      <td>20.5</td>\n",
       "      <td>13531047.8</td>\n",
       "      <td>0.911122218</td>\n",
       "      <td>0.088915479</td>\n",
       "      <td>13.47</td>\n",
       "      <td>2017, 2018,</td>\n",
       "    </tr>\n",
       "    <tr>\n",
       "      <th>3</th>\n",
       "      <td>One Appleton</td>\n",
       "      <td>Compliant</td>\n",
       "      <td>Office</td>\n",
       "      <td>1 Appleton Street</td>\n",
       "      <td>02116</td>\n",
       "      <td>40000.0</td>\n",
       "      <td>44.7</td>\n",
       "      <td>99.0</td>\n",
       "      <td>Office, Restaurant</td>\n",
       "      <td>1900.0</td>\n",
       "      <td>104.7</td>\n",
       "      <td>2.6</td>\n",
       "      <td>1789160.6</td>\n",
       "      <td>0.228974011</td>\n",
       "      <td>0.771035565</td>\n",
       "      <td>17.9</td>\n",
       "      <td>2016, 2017, 2018,</td>\n",
       "    </tr>\n",
       "    <tr>\n",
       "      <th>4</th>\n",
       "      <td>One Beacon</td>\n",
       "      <td>Compliant</td>\n",
       "      <td>Office</td>\n",
       "      <td>1 Beacon Street</td>\n",
       "      <td>02108</td>\n",
       "      <td>1136283.0</td>\n",
       "      <td>102.1</td>\n",
       "      <td>81.0</td>\n",
       "      <td>Data Center, Office, Parking</td>\n",
       "      <td>1973.0</td>\n",
       "      <td>8178.9</td>\n",
       "      <td>7.2</td>\n",
       "      <td>116022321.3</td>\n",
       "      <td>0.418717059</td>\n",
       "      <td>0.015490123</td>\n",
       "      <td>9.18</td>\n",
       "      <td>2014, 2015, 2016, 2017, 2018,</td>\n",
       "    </tr>\n",
       "  </tbody>\n",
       "</table>\n",
       "</div>"
      ],
      "text/plain": [
       "                  Property Name   Reported        Property Type  \\\n",
       "0    251 Causeway - Ste# 700490  Compliant               Office   \n",
       "1         Woodbourne Apartments  Compliant  Multifamily Housing   \n",
       "2  Navy Yard 34-39: Building 34  Compliant               Office   \n",
       "3                  One Appleton  Compliant               Office   \n",
       "4                    One Beacon  Compliant               Office   \n",
       "\n",
       "                Address    ZIP  Gross Area(sq ft)  Site EUI (kBTU/sf)  \\\n",
       "0   251 Causeway Street  02114           150097.0                62.0   \n",
       "1      6 Southbourne Rd  02130            49064.0                82.3   \n",
       "2          1 1st Avenue  02129            49247.0               274.8   \n",
       "3     1 Appleton Street  02116            40000.0                44.7   \n",
       "4       1 Beacon Street  02108          1136283.0               102.1   \n",
       "\n",
       "   Energy Star Score                      Property Uses  Year Built  \\\n",
       "0               75.0             Medical Office, Office      1909.0   \n",
       "1               53.0                Multifamily Housing      1980.0   \n",
       "2                1.0  Bank Branch, Office, Retail Store      1989.0   \n",
       "3               99.0                 Office, Restaurant      1900.0   \n",
       "4               81.0       Data Center, Office, Parking      1973.0   \n",
       "\n",
       "  GHG Emissions(MTCO2e)  GHG Intensity (kgCO2/sf)  Total Site Energy (kBTU)  \\\n",
       "0                   703                       4.7                 9310256.1   \n",
       "1                   238                       4.9                 4036588.1   \n",
       "2                1009.1                      20.5                13531047.8   \n",
       "3                 104.7                       2.6                 1789160.6   \n",
       "4                8178.9                       7.2               116022321.3   \n",
       "\n",
       "  % Electricity        % Gas Water Intensity (gal/sf)  \\\n",
       "0   0.948339574  0.048892318                     9.72   \n",
       "1   0.248623256  0.751387043                    63.19   \n",
       "2   0.911122218  0.088915479                    13.47   \n",
       "3   0.228974011  0.771035565                     17.9   \n",
       "4   0.418717059  0.015490123                     9.18   \n",
       "\n",
       "                   Years Reported  \n",
       "0  2014, 2015, 2016, 2017, 2018,   \n",
       "1        2015, 2016, 2017, 2018,   \n",
       "2                    2017, 2018,   \n",
       "3              2016, 2017, 2018,   \n",
       "4  2014, 2015, 2016, 2017, 2018,   "
      ]
     },
     "execution_count": 15,
     "metadata": {},
     "output_type": "execute_result"
    }
   ],
   "source": [
    "df.head() #cleaned data"
   ]
  },
  {
   "cell_type": "markdown",
   "metadata": {},
   "source": [
    "<h3>3. Data Visualization and Descriptive Analysis</h3>\n",
    "\n",
    "Now that the data has been properly cleaned, it is now ready to visualize trends and perform analysis.\n",
    "Data visualization is the graphical representation of information and data. By using visual elements like charts, graphs, and maps, data visualization tools provide an accessible way to see and understand trends, outliers, and patterns in data.\n",
    "\n",
    "In the world of Big Data, data visualization tools and technologies are essential to analyze massive amounts of information and make data-driven decisions.\n",
    "Some of the ways in which data can be visualized are:\n",
    "<ul>\n",
    "    <li>Line graphs</li>\n",
    "    <li>Bar Graphs</li>\n",
    "    <li>Area Plots</li>\n",
    "    <li>Histograms</li>\n",
    "    <li>Waffle Charts</li>\n",
    "    <li>Pie Charts</li>\n",
    "</ul>\n",
    "For this project I have used bar graphs to visualize important trends of the data.\n",
    "\n",
    "A bar plot is a way of representing data where the length of the bars represents the magnitude/size of the feature/variable. Bar graphs usually represent numerical and categorical variables grouped in intervals."
   ]
  },
  {
   "cell_type": "markdown",
   "metadata": {},
   "source": [
    "<h3>Visualizing the energy consumed by different property types</h3>"
   ]
  },
  {
   "cell_type": "code",
   "execution_count": 16,
   "metadata": {
    "scrolled": true
   },
   "outputs": [
    {
     "data": {
      "image/png": "[encoded data removed]",
      "text/plain": [
       "<Figure size 432x288 with 1 Axes>"
      ]
     },
     "metadata": {
      "needs_background": "light"
     },
     "output_type": "display_data"
    }
   ],
   "source": [
    "#plotting a bar graph to visualize which property type consumes how much energy\n",
    "graph('Total Site Energy (kBTU)','Energy consumption by different property types')  "
   ]
  },
  {
   "cell_type": "markdown",
   "metadata": {},
   "source": [
    "<ul>\n",
    "    <li>From the bar graph, it is clear that hotels and hospitals consume the maximum energy.</li>\n",
    "<li>There is a huge gap between the energy consumed by the hotels and hospitals and the other property types.</li>\n",
    "<li>This gap is mainly due to the variable equipment efficiency and energy management practices used by the hotels and hospitals.</li>\n",
    "</ul>\n",
    "\n",
    "\n",
    "Below is how energy used in the hotels can be minimized-:\n",
    "\n",
    "Lighting represents almost a quarter of all electricity consumed in a typical hotel, not including its effect on cooling loads. Lighting retrofits can reduce lighting electricity use by 50 percent or more, depending on the starting point, and cut cooling energy requirements by 10 to 20 percent as well.\n",
    "Installing timers on bathroom heat lamps and consider connecting bathroom exhaust fans to light switches to reduce excessive operation.\n",
    "Replace light bulbs with more efficient ones.\n",
    "Use daylighting. Natural daylight has been shown to improve a hotel’s indoor environment while reducing energy use and peak demand. Whenever possible, any lighting renovation should start by using daylighting as much as possible and reducing electric lighting accordingly.\n",
    "Update lighting with ENERGY STAR certified CFL and LED bulbs. \n",
    "Install occupancy sensors.\n",
    "Heating and cooling represent almost 40 percent of the electricity and more than half of the natural gas used by hotels and motels. Many hotels heat and cool rooms regardless of whether they are occupied, despite studies having shown that hotel rooms are unoccupied for 12 hours each day on average.\n",
    "\n",
    "Link the energy management system (EMS), reservation system, and automated check-out system together to keep an unsold room ventilated but with minimal heating or cooling. A sold room can be heated or cooled to a comfortable temperature an hour before a guest’s scheduled arrival. Once the guests arrive in the room, they can then adjust the temperature as they like until they check out, when the HVAC system returns to the unsold mode. An EMS can enhance guest comfort while reducing energy costs by 35 to 45 percent, for a return on investment of 50 to 75 percent.\n",
    "Seal cracks around windows, doors, and through-the-wall or window type HVAC units with caulk and weather-strip doors and operable windows.\n",
    "Change air filter regularly. Check your filter every month, especially during heavy use months (winter and summer). If the filter looks dirty after a month, change it. At a minimum, change the filter every three months. A dirty filter will slow down air flow and make the system work harder to keep you warm or cool—wasting energy.\n",
    "Tune up the HVAC equipment yearly. Just like a tune-up for your car can improve your gas mileage, a yearly tune-up of your heating and cooling system can improve efficiency and comfort.\n",
    "During periods of low occupancy, close down entire wings or floors and reduce lighting and HVAC systems in these areas.\n",
    "Assign guests to adjoining rooms to allow the heating and cooling of occupied rooms to act as a buffer or insulator.\n",
    "\n",
    "Some of the ways in which energy can be minimized in hospitals:\n",
    "\n",
    "\n",
    "Switching to LED will give the highest amount of energy savings. Lighting accounts for a large part of overall energy costs – 16% to be exact.\n",
    "Retrofit light fixtures and light bulbs. This will give the highest energy savings, but also cost the most up-front. \n",
    "\n",
    "Search for “leaking” electricity. Before investing in new machinery, have the medical equipment already on site audited for energy use. It may be that major equipment needs an upgrade, but it may be that minor equipment plugged in all day is consuming energy even when turned off. For clinics and laboratories only open during normal business hours, this means much of your equipment is idling 16 hours a day. Energy efficient power strips can stop drawing energy when the equipment is not in use.\n",
    "Take a look at your laundry services. ENERGY STAR-labeled washing machines use 63 percent less energy and half the water of conventional washing machines. Your staff can also be trained on when cold-water rinses are appropriate, as hot rinse settings use twice as much energy.\n",
    "\n",
    "\n",
    "Redesign waste management. Hospitals in the United States produce 6,600 tons of waste a day. Fifty front-of-house trashcans at a busy hospital can produce 40,000 bags-to-the-dumpster a year. A study by the Commonweath Fund revealed that rethinking how you manage waste results in a five-year savings average of 40 cents per patient day. You may need to monitor for misuse of red medical waste bags, as it costs 13 times more to dispose of medical waste than regular waste. For public trash bins, Wi-Fi enabled cans with smart sensors can compact trash as it accumulates then signal a central computer when it is ready to be emptied. This prevents the bins from overflowing during peak use and prevents staff from using their time and resources to empty a can that is only half full.\n",
    "\n",
    "\n",
    "Upgrade computers and other office equipment. ENERGY STAR-qualified office products like printers, monitors, scanners, mailing machines and water coolers consume 30 to 75 percent less energy than standard models. Flat-screen computer monitors also use considerably less energy. The University of Pittsburgh Medical Center installed a computer program to monitor power settings for 25,000 PCs across its on-site network, enabling administrators to put them in a sleep mode at night. A grant from the local utility company covered 30 percent of the project’s costs, and the hospital cut 50 percent of the power used by PCs.\n",
    "\n",
    "\n",
    "Consider renewable sources of energy. Like Weed Army Community Hospital turned to solar power to cut its energy use by a third, Gundersen Health System in Wisconsin uses waste biogas created in the La Crosse County landfill to create electricity and heat that fully powers one of its multiple building healthcare campuses. A geothermal heat pump system heats and cools one hospital, and a biomass boiler at the main hospital’s campus takes care of 38 percent of the system’s energy needs. Solar panels power the underground parking garage, and a solar hot water unit offsets 85 percent of the Child Care Center’s hot water needs. Gundersen became the first health system in the nation to attain complete energy independence in 2014."
   ]
  },
  {
   "cell_type": "code",
   "execution_count": 17,
   "metadata": {},
   "outputs": [
    {
     "data": {
      "image/png": "[encoded data removed]",
      "text/plain": [
       "<Figure size 432x288 with 1 Axes>"
      ]
     },
     "metadata": {
      "needs_background": "light"
     },
     "output_type": "display_data"
    }
   ],
   "source": [
    "graph('Energy Star Score','Energy star score of different property types')"
   ]
  },
  {
   "cell_type": "markdown",
   "metadata": {},
   "source": [
    "This bar graph reveals some very interesting facts. Except medical offices, all type of properties have an energy star score above 35. \n",
    "The 1 – 100 ENERGY STAR score is a screening tool that helps you assess how the building is performing. It helps to identify which buildings in portfolio to target for improvement or recognition. A score of 50 is the median. So if the building scores below 50, it means it’s performing worse than 50 percent of similar buildings nationwide, while a score above 50 means it’s performing better than 50 percent of its peers. And a score of 75 or higher means it’s a top performer and may be eligible for ENERGY STAR certification.\n",
    "\n",
    "The ENERGY STAR score provides a comprehensive snapshot of the building’s energy performance. It assesses the building’s physical assets, operations, and occupant behavior in a quick and easy-to-understand number.\n",
    "\n",
    "It can be clearly noted that only offices, K-12 schools and financial offices have an energy star score above 75. \n",
    "\n",
    "<h6>Energy Star Score for K-12 Schools</h6>\n",
    "\n",
    "The ENERGY STAR Score for K-12 Schools applies to buildings or campuses used as a school for kindergarten through 12th grade students.The analysis for K-12 schools is based on data from the Department of Energy, Energy Information Administration’s Commercial Building Energy Consumption Survey (CBECS).\n",
    "The analysis includes adjustments for:\n",
    "<ul>\n",
    "    <li>Number of Workers</li>\n",
    "    <li>Whether or not the School is Open on Weekends</li>\n",
    "    <li>Whether or not there is Energy Used for Cooking</li>\n",
    "    <li>Whether or not the School is a High School</li>\n",
    "    <li>Weather and Climate (using Heating and Cooling Degree Days, retrieved based on Zip code)</li>\n",
    "    <li>Percent of the Building that is Heated and Cooled</li>\n",
    "</ul>\n",
    "\n",
    "<h6>Energy Star Score for Offices</h6>\n",
    "\n",
    "The ENERGY STAR score for offices applies to four property types: office, financialoffice, bank branch, and courthouse. The score applies to individual buildings only and is not available for campuses.The analysis for offices is based on data from the Department of Energy, EnergyInformation Administration’s Commercial Building Energy Consumption Survey (CBECS).\n",
    "The analysis includes adjustments for:\n",
    "<ul>\n",
    "    <li>Building Size</li>\n",
    "    <li>Number of Computers</li>\n",
    "    <li>Number of Workers</li>\n",
    "    <li>Weekly Operating Hours</li>\n",
    "    <li>Weather and Climate (using Heating and Cooling Degree Days, retrieved based on Zip code)</li>\n",
    "    <li>Percent of the Building that is Cooled</li>\n",
    "    <li>Whether or not the Building is a Bank Branch (Small Banks show different performance)</li>\n",
    "</ul>"
   ]
  },
  {
   "cell_type": "code",
   "execution_count": 18,
   "metadata": {
    "scrolled": false
   },
   "outputs": [
    {
     "data": {
      "text/html": [
       "<div>\n",
       "<style scoped>\n",
       "    .dataframe tbody tr th:only-of-type {\n",
       "        vertical-align: middle;\n",
       "    }\n",
       "\n",
       "    .dataframe tbody tr th {\n",
       "        vertical-align: top;\n",
       "    }\n",
       "\n",
       "    .dataframe thead th {\n",
       "        text-align: right;\n",
       "    }\n",
       "</style>\n",
       "<table border=\"1\" class=\"dataframe\">\n",
       "  <thead>\n",
       "    <tr style=\"text-align: right;\">\n",
       "      <th></th>\n",
       "      <th>Gross Area(sq ft)</th>\n",
       "      <th>Site EUI (kBTU/sf)</th>\n",
       "      <th>Energy Star Score</th>\n",
       "      <th>Year Built</th>\n",
       "      <th>GHG Intensity (kgCO2/sf)</th>\n",
       "      <th>Total Site Energy (kBTU)</th>\n",
       "    </tr>\n",
       "  </thead>\n",
       "  <tbody>\n",
       "    <tr>\n",
       "      <th>count</th>\n",
       "      <td>9.750000e+02</td>\n",
       "      <td>975.000000</td>\n",
       "      <td>975.000000</td>\n",
       "      <td>975.000000</td>\n",
       "      <td>975.000000</td>\n",
       "      <td>9.750000e+02</td>\n",
       "    </tr>\n",
       "    <tr>\n",
       "      <th>mean</th>\n",
       "      <td>1.582547e+05</td>\n",
       "      <td>730.954872</td>\n",
       "      <td>65.264615</td>\n",
       "      <td>1953.112821</td>\n",
       "      <td>48.154720</td>\n",
       "      <td>3.700950e+07</td>\n",
       "    </tr>\n",
       "    <tr>\n",
       "      <th>std</th>\n",
       "      <td>2.578368e+05</td>\n",
       "      <td>18621.941339</td>\n",
       "      <td>30.175424</td>\n",
       "      <td>80.137597</td>\n",
       "      <td>1236.620323</td>\n",
       "      <td>5.488110e+08</td>\n",
       "    </tr>\n",
       "    <tr>\n",
       "      <th>min</th>\n",
       "      <td>7.200000e+03</td>\n",
       "      <td>0.000000</td>\n",
       "      <td>1.000000</td>\n",
       "      <td>1000.000000</td>\n",
       "      <td>0.000000</td>\n",
       "      <td>0.000000e+00</td>\n",
       "    </tr>\n",
       "    <tr>\n",
       "      <th>25%</th>\n",
       "      <td>4.400000e+04</td>\n",
       "      <td>54.400000</td>\n",
       "      <td>44.000000</td>\n",
       "      <td>1920.000000</td>\n",
       "      <td>3.300000</td>\n",
       "      <td>2.893348e+06</td>\n",
       "    </tr>\n",
       "    <tr>\n",
       "      <th>50%</th>\n",
       "      <td>7.730300e+04</td>\n",
       "      <td>70.100000</td>\n",
       "      <td>73.000000</td>\n",
       "      <td>1970.000000</td>\n",
       "      <td>4.400000</td>\n",
       "      <td>5.777233e+06</td>\n",
       "    </tr>\n",
       "    <tr>\n",
       "      <th>75%</th>\n",
       "      <td>1.579870e+05</td>\n",
       "      <td>94.250000</td>\n",
       "      <td>92.000000</td>\n",
       "      <td>1999.000000</td>\n",
       "      <td>5.800000</td>\n",
       "      <td>1.274575e+07</td>\n",
       "    </tr>\n",
       "    <tr>\n",
       "      <th>max</th>\n",
       "      <td>3.912529e+06</td>\n",
       "      <td>579540.100000</td>\n",
       "      <td>100.000000</td>\n",
       "      <td>2017.000000</td>\n",
       "      <td>38485.100000</td>\n",
       "      <td>1.654579e+10</td>\n",
       "    </tr>\n",
       "  </tbody>\n",
       "</table>\n",
       "</div>"
      ],
      "text/plain": [
       "       Gross Area(sq ft)  Site EUI (kBTU/sf)  Energy Star Score   Year Built  \\\n",
       "count       9.750000e+02          975.000000         975.000000   975.000000   \n",
       "mean        1.582547e+05          730.954872          65.264615  1953.112821   \n",
       "std         2.578368e+05        18621.941339          30.175424    80.137597   \n",
       "min         7.200000e+03            0.000000           1.000000  1000.000000   \n",
       "25%         4.400000e+04           54.400000          44.000000  1920.000000   \n",
       "50%         7.730300e+04           70.100000          73.000000  1970.000000   \n",
       "75%         1.579870e+05           94.250000          92.000000  1999.000000   \n",
       "max         3.912529e+06       579540.100000         100.000000  2017.000000   \n",
       "\n",
       "       GHG Intensity (kgCO2/sf)  Total Site Energy (kBTU)  \n",
       "count                975.000000              9.750000e+02  \n",
       "mean                  48.154720              3.700950e+07  \n",
       "std                 1236.620323              5.488110e+08  \n",
       "min                    0.000000              0.000000e+00  \n",
       "25%                    3.300000              2.893348e+06  \n",
       "50%                    4.400000              5.777233e+06  \n",
       "75%                    5.800000              1.274575e+07  \n",
       "max                38485.100000              1.654579e+10  "
      ]
     },
     "execution_count": 18,
     "metadata": {},
     "output_type": "execute_result"
    }
   ],
   "source": [
    "df.describe()"
   ]
  },
  {
   "cell_type": "code",
   "execution_count": 19,
   "metadata": {
    "scrolled": true
   },
   "outputs": [
    {
     "data": {
      "text/plain": [
       "Property Name                              Devonshire Arch\n",
       "Reported                                         Compliant\n",
       "Property Type                                        Hotel\n",
       "Address                             159-175 Devonshire St.\n",
       "ZIP                                                  02110\n",
       "Gross Area(sq ft)                                     7279\n",
       "Site EUI (kBTU/sf)                                  579540\n",
       "Energy Star Score                                        1\n",
       "Property Uses                                        Hotel\n",
       "Year Built                                            1908\n",
       "GHG Emissions(MTCO2e)                               280133\n",
       "GHG Intensity (kgCO2/sf)                           38485.1\n",
       "Total Site Energy (kBTU)                       4.21847e+09\n",
       "% Electricity                                  0.001119055\n",
       "% Gas                                          0.000279099\n",
       "Water Intensity (gal/sf)                            661.51\n",
       "Years Reported              2014, 2015, 2016, 2017, 2018, \n",
       "Name: 257, dtype: object"
      ]
     },
     "execution_count": 19,
     "metadata": {},
     "output_type": "execute_result"
    }
   ],
   "source": [
    "#finding information about the building with maximum EUI.\n",
    "df.loc[df['Site EUI (kBTU/sf)'].idxmax()]"
   ]
  },
  {
   "cell_type": "code",
   "execution_count": 20,
   "metadata": {},
   "outputs": [
    {
     "data": {
      "text/plain": [
       "Property Name                           Baker Square\n",
       "Reported                                   Compliant\n",
       "Property Type                    Multifamily Housing\n",
       "Address                            1241 Adams Street\n",
       "ZIP                                            02124\n",
       "Gross Area(sq ft)                             229178\n",
       "Site EUI (kBTU/sf)                              56.3\n",
       "Energy Star Score                                 50\n",
       "Property Uses                    Multifamily Housing\n",
       "Year Built                                      1000\n",
       "GHG Emissions(MTCO2e)                          835.5\n",
       "GHG Intensity (kgCO2/sf)                         3.6\n",
       "Total Site Energy (kBTU)                 1.29013e+07\n",
       "% Electricity                            0.494262251\n",
       "% Gas                                    0.505758206\n",
       "Water Intensity (gal/sf)                        25.6\n",
       "Years Reported              2015, 2016, 2017, 2018, \n",
       "Name: 145, dtype: object"
      ]
     },
     "execution_count": 20,
     "metadata": {},
     "output_type": "execute_result"
    }
   ],
   "source": [
    "#finding the information about the oldest building\n",
    "df.loc[df['Year Built'].idxmin()]"
   ]
  },
  {
   "cell_type": "markdown",
   "metadata": {},
   "source": [
    "<h3>Observations</h3>\n",
    "\n",
    "The average star score of the properties under survey in Boston for the year 2018 was 65.\n",
    "\n",
    "From the <b>Year Built</b> column we can tell that the properties under consideration inculde buildings which date back to being 1000 years old.<br>\n",
    "<b>Baker Square</b> is the oldest building under survey which was built in the year 1000. <br>\n",
    "The site has been categorised as multi family housing and has a EUI of 56.3<br>\n",
    "The energy star score of the building is 50.<br>\n",
    "\n",
    "\n",
    "\n",
    "The average energy use intesity for the year 2018 was 730 kBTU/sf.<br>\n",
    "\n",
    "\n",
    "The maximum energy use intesity was 579540.1 kBTU/sf by <b>Devonshire Arch.</b><br>\n",
    "It is a hotel built in the year 1908 and has a surprsingly low energy star score of 1.00\n",
    "\n",
    "\n"
   ]
  },
  {
   "cell_type": "markdown",
   "metadata": {},
   "source": [
    "<h3>Predictive Analytics</h3>\n",
    "\n",
    "For predictive analysis, I have used the area of the building to predict its energy consumption. Since I have used only one independent variable, I have used linear regression to perform the predictive analysis.\n",
    "The first step is to import the linear regression from scikit learn.\n"
   ]
  },
  {
   "cell_type": "code",
   "execution_count": 21,
   "metadata": {},
   "outputs": [
    {
     "data": {
      "text/plain": [
       "LinearRegression()"
      ]
     },
     "execution_count": 21,
     "metadata": {},
     "output_type": "execute_result"
    }
   ],
   "source": [
    "#Creating the linear regression object.\n",
    "lm = LinearRegression()\n",
    "lm"
   ]
  },
  {
   "cell_type": "code",
   "execution_count": 22,
   "metadata": {},
   "outputs": [
    {
     "data": {
      "text/plain": [
       "LinearRegression()"
      ]
     },
     "execution_count": 22,
     "metadata": {},
     "output_type": "execute_result"
    }
   ],
   "source": [
    "#defining the dependent and independent variables.\n",
    "X = df[['Gross Area(sq ft)']]\n",
    "Y = df['Total Site Energy (kBTU)']\n",
    "lm.fit(X,Y)"
   ]
  },
  {
   "cell_type": "code",
   "execution_count": 23,
   "metadata": {},
   "outputs": [
    {
     "data": {
      "text/plain": [
       "array([3.53812764e+07, 1.52156489e+07, 1.52521747e+07, 1.34065247e+07,\n",
       "       2.32218543e+08])"
      ]
     },
     "execution_count": 23,
     "metadata": {},
     "output_type": "execute_result"
    }
   ],
   "source": [
    "#This function is used to predict the values of Y using X by applying the linear regression method.\n",
    "Yhat=lm.predict(X)\n",
    "Yhat[0:5] "
   ]
  },
  {
   "cell_type": "code",
   "execution_count": 24,
   "metadata": {},
   "outputs": [
    {
     "data": {
      "text/plain": [
       "5422746.107955184"
      ]
     },
     "execution_count": 24,
     "metadata": {},
     "output_type": "execute_result"
    }
   ],
   "source": [
    "lm.intercept_"
   ]
  },
  {
   "cell_type": "code",
   "execution_count": 25,
   "metadata": {},
   "outputs": [
    {
     "data": {
      "text/plain": [
       "array([199.59446438])"
      ]
     },
     "execution_count": 25,
     "metadata": {},
     "output_type": "execute_result"
    }
   ],
   "source": [
    "lm.coef_"
   ]
  },
  {
   "cell_type": "code",
   "execution_count": 26,
   "metadata": {
    "scrolled": true
   },
   "outputs": [
    {
     "data": {
      "text/plain": [
       "(0.0, 17373667879.389736)"
      ]
     },
     "execution_count": 26,
     "metadata": {},
     "output_type": "execute_result"
    },
    {
     "data": {
      "image/png": "[encoded data removed]",
      "text/plain": [
       "<Figure size 864x720 with 1 Axes>"
      ]
     },
     "metadata": {
      "needs_background": "light"
     },
     "output_type": "display_data"
    }
   ],
   "source": [
    "width = 12\n",
    "height = 10\n",
    "plt.figure(figsize=(width, height))\n",
    "sns.regplot(x=\"Gross Area(sq ft)\", y=\"Total Site Energy (kBTU)\", data=df)\n",
    "plt.ylim(0,)"
   ]
  },
  {
   "cell_type": "markdown",
   "metadata": {},
   "source": [
    "The above graph shows the relationship between the area of the property and its energy consumption. <br>\n",
    "We can see from this plot that the site's energy consumption is postively correlated to the area of the property since the regression slope is positive.<br>\n",
    "As the area of the site increases it's energy usage also increases. <br>\n",
    "Also, as almost all points are near the fitted line, we can conclude that linear regression model is a good choice here. \n",
    "One of the points is too far from the line which indicates the existence of outliers.\n",
    "This shows one of the factors on which the energy consmuption is dependent. There are a number of other factors too which affect the energy consumption. <br>\n",
    "This predictive model uses the equation of a line to estimate the energy consumed by the property using its gross area in square feet. <br>\n",
    "According to this model, the energy consumption will be more for a larger property as compared to a similar property of a smaller size.<br> \n"
   ]
  },
  {
   "cell_type": "markdown",
   "metadata": {},
   "source": [
    "We are going to now split the data into test and training data to test the accuracy of the predicted model. 85% dataset is taken as the training data and rest 15% will be the testing data."
   ]
  },
  {
   "cell_type": "code",
   "execution_count": 29,
   "metadata": {},
   "outputs": [
    {
     "name": "stdout",
     "output_type": "stream",
     "text": [
      "number of test samples : 147\n",
      "number of training samples: 828\n"
     ]
    }
   ],
   "source": [
    "x_train, x_test, y_train, y_test = train_test_split(X, Y, test_size=0.15, random_state=1)\n",
    "\n",
    "\n",
    "print(\"number of test samples :\", x_test.shape[0])\n",
    "print(\"number of training samples:\",x_train.shape[0])"
   ]
  },
  {
   "cell_type": "code",
   "execution_count": 31,
   "metadata": {},
   "outputs": [
    {
     "name": "stdout",
     "output_type": "stream",
     "text": [
      "LinearRegression()\n",
      "-0.0021382823894231517\n",
      "0.07473270963249001\n"
     ]
    }
   ],
   "source": [
    "lre=LinearRegression()\n",
    "print(lre.fit(x_train, y_train))\n",
    "print(lre.score(x_test, y_test))\n",
    "print(lre.score(x_train, y_train))"
   ]
  },
  {
   "cell_type": "code",
   "execution_count": 32,
   "metadata": {
    "scrolled": true
   },
   "outputs": [
    {
     "data": {
      "text/plain": [
       "array([1.42574218e+07, 6.35830771e+06, 3.81990719e+06, 7.28908107e+05,\n",
       "       6.16584939e+08])"
      ]
     },
     "execution_count": 32,
     "metadata": {},
     "output_type": "execute_result"
    }
   ],
   "source": [
    "yhat_train = lre.predict(x_train)\n",
    "yhat_train[0:5]"
   ]
  },
  {
   "cell_type": "code",
   "execution_count": 34,
   "metadata": {},
   "outputs": [
    {
     "data": {
      "text/plain": [
       "array([1.56859146e+06, 2.23872031e+06, 3.46430272e+06, 1.13584159e+08,\n",
       "       1.04266639e+07])"
      ]
     },
     "execution_count": 34,
     "metadata": {},
     "output_type": "execute_result"
    }
   ],
   "source": [
    "yhat_test = lre.predict(x_test)\n",
    "yhat_test[0:5]"
   ]
  },
  {
   "cell_type": "code",
   "execution_count": 35,
   "metadata": {
    "scrolled": false
   },
   "outputs": [
    {
     "name": "stderr",
     "output_type": "stream",
     "text": [
      "C:\\Users\\aayus\\Anaconda3\\lib\\site-packages\\seaborn\\distributions.py:2551: FutureWarning: `distplot` is a deprecated function and will be removed in a future version. Please adapt your code to use either `displot` (a figure-level function with similar flexibility) or `kdeplot` (an axes-level function for kernel density plots).\n",
      "  warnings.warn(msg, FutureWarning)\n",
      "C:\\Users\\aayus\\Anaconda3\\lib\\site-packages\\seaborn\\distributions.py:2551: FutureWarning: `distplot` is a deprecated function and will be removed in a future version. Please adapt your code to use either `displot` (a figure-level function with similar flexibility) or `kdeplot` (an axes-level function for kernel density plots).\n",
      "  warnings.warn(msg, FutureWarning)\n"
     ]
    },
    {
     "data": {
      "image/png": "[encoded data removed]",
      "text/plain": [
       "<Figure size 864x720 with 1 Axes>"
      ]
     },
     "metadata": {
      "needs_background": "light"
     },
     "output_type": "display_data"
    }
   ],
   "source": [
    "Title = 'Distribution  Plot of  Predicted Value Using Training Data vs Training Data Distribution'\n",
    "DistributionPlot(y_train, yhat_train, \"Actual Values (Train)\", \"Predicted Values (Train)\", Title)"
   ]
  },
  {
   "cell_type": "markdown",
   "metadata": {},
   "source": [
    "The blue values show the predicted values and the red values show the actual values. \n",
    "The R^2 value is used to determine the accuracy of the model. This tells us how well the unknown samples will be predicted by our model. The r^2 in this case is quite less(0.074). This indicates that the gross area is not enough to determine the total site energy consumption. Various other factors have to be taken into account and then after multiple passes will we get a refined model."
   ]
  },
  {
   "cell_type": "code",
   "execution_count": 27,
   "metadata": {
    "scrolled": true
   },
   "outputs": [
    {
     "data": {
      "text/html": [
       "<div>\n",
       "<style scoped>\n",
       "    .dataframe tbody tr th:only-of-type {\n",
       "        vertical-align: middle;\n",
       "    }\n",
       "\n",
       "    .dataframe tbody tr th {\n",
       "        vertical-align: top;\n",
       "    }\n",
       "\n",
       "    .dataframe thead th {\n",
       "        text-align: right;\n",
       "    }\n",
       "</style>\n",
       "<table border=\"1\" class=\"dataframe\">\n",
       "  <thead>\n",
       "    <tr style=\"text-align: right;\">\n",
       "      <th></th>\n",
       "      <th>Gross Area(sq ft)</th>\n",
       "      <th>Total Site Energy (kBTU)</th>\n",
       "    </tr>\n",
       "  </thead>\n",
       "  <tbody>\n",
       "    <tr>\n",
       "      <th>Gross Area(sq ft)</th>\n",
       "      <td>1.000000</td>\n",
       "      <td>0.093771</td>\n",
       "    </tr>\n",
       "    <tr>\n",
       "      <th>Total Site Energy (kBTU)</th>\n",
       "      <td>0.093771</td>\n",
       "      <td>1.000000</td>\n",
       "    </tr>\n",
       "  </tbody>\n",
       "</table>\n",
       "</div>"
      ],
      "text/plain": [
       "                          Gross Area(sq ft)  Total Site Energy (kBTU)\n",
       "Gross Area(sq ft)                  1.000000                  0.093771\n",
       "Total Site Energy (kBTU)           0.093771                  1.000000"
      ]
     },
     "execution_count": 27,
     "metadata": {},
     "output_type": "execute_result"
    }
   ],
   "source": [
    "#displaying the correlation between the area and the site's energy consumption\n",
    "df[['Gross Area(sq ft)','Total Site Energy (kBTU)']].corr()"
   ]
  },
  {
   "cell_type": "markdown",
   "metadata": {},
   "source": [
    "<h3>Conclusion</h3>\n",
    "\n",
    "In conclusion, the energy consumed by a property depends on many factors, the most important being its purpose. Hotels and Hospital buildings consume the most energy. This energy can be reduced by following a lot of energy efficent measures which might lead to increased cost.<br>\n",
    "K-12 schools and offices tend to have a higher energy star score as compared to different property types. By replacing older equipment with newer equipment having a good energy star score can help a great deal in improving energy use intensity.Optimizing the area is also something that can be done.<br>\n",
    "Listed below are the questions that were intended to be asked along with their answers.<br>\n",
    "<ul>\n",
    "<li>Question: How does the area of a building affect its energy consumption?<br>\n",
    "    Answer: The area and energy consumption of a site are positively correlated which means that as the area increases, the energy consumption also increases.</li>\n",
    "    \n",
    "    \n",
    "    \n",
    "<li>Question: Which buildings consume the maximum energy? <br>\n",
    "    Answer: Hotels and hospitals consume the maximum energy</li>\n",
    "    \n",
    "    \n",
    "    \n",
    "<li>Question: Will an increase in area increase the energy consumption of the building?<br>\n",
    "    Answer: Yes</li>\n",
    "    \n",
    "    \n",
    "    \n",
    "<li>Question: What is the average energy use intesity for buildings in Boston?<br>\n",
    "    Answer: The average energy use intesity for the year 2018 was 730 kBTU/sf.</li>\n",
    "    \n",
    "<li>Question: What is the maximum energy use intensity for buildings in Boston?<br>\n",
    "    Answer:The maximum energy use intesity was 579540.1 kBTU/sf.\n",
    "    \n",
    "    \n",
    "    \n",
    "<li>Question: Which type of properties have the highest energy star score ?<br>\n",
    "    Answer: K-12 schools and offices have the highest energy star score.</li>\n",
    "    \n",
    "    \n",
    "<li>Question: What is the average energy star score of the buildings in Boston for the year 2018?<br>\n",
    "    Answer:The average star score of the properties under survey in Boston for the year 2018 was 65.\n",
    "</ul>"
   ]
  },
  {
   "cell_type": "markdown",
   "metadata": {},
   "source": [
    "<h3>References</h3>\n",
    "\n",
    "\n",
    "1.https://www.energystar.gov\n",
    "\n",
    "\n",
    "2.https://matplotlib.org/stable/index.html\n",
    "\n",
    "\n",
    "3.https://scikit-learn.org/stable/modules/generated/sklearn.linear_model.LinearRegression.html\n",
    "\n",
    "\n",
    "\n",
    "4.https://data.boston.gov/dataset/building-energy-reporting-and-disclosure-ordinance/resource/da68dc1a-46ad-4fd9-8627-8ca7e5fd39dd\n",
    "\n",
    "\n",
    "5.https://scentellegher.github.io/programming/2017/07/15/pandas-groupby-multiple-columns-plot.html\n",
    "\n",
    "\n",
    "6.https://saineng.com/4240-2/\n",
    "\n"
   ]
  }
 ],
 "metadata": {
  "kernelspec": {
   "display_name": "Python 3",
   "language": "python",
   "name": "python3"
  },
  "language_info": {
   "codemirror_mode": {
    "name": "ipython",
    "version": 3
   },
   "file_extension": ".py",
   "mimetype": "text/x-python",
   "name": "python",
   "nbconvert_exporter": "python",
   "pygments_lexer": "ipython3",
   "version": "3.8.5"
  }
 },
 "nbformat": 4,
 "nbformat_minor": 4
}
